{
  "nbformat": 4,
  "nbformat_minor": 0,
  "metadata": {
    "colab": {
      "name": "MITx Chart Review.ipynb",
      "private_outputs": true,
      "provenance": [],
      "collapsed_sections": [],
      "include_colab_link": true
    },
    "kernelspec": {
      "name": "python3",
      "display_name": "Python 3"
    }
  },
  "cells": [
    {
      "cell_type": "markdown",
      "metadata": {
        "id": "view-in-github",
        "colab_type": "text"
      },
      "source": [
        "<a href=\"https://colab.research.google.com/github/flozgom/Machine_Learning_Healthcare/blob/main/MITx_Chart_Review.ipynb\" target=\"_parent\"><img src=\"https://colab.research.google.com/assets/colab-badge.svg\" alt=\"Open In Colab\"/></a>"
      ]
    },
    {
      "cell_type": "markdown",
      "metadata": {
        "id": "aAAJZSP9yQle"
      },
      "source": [
        "<h1>Chart Review</h1>\n",
        "\n"
      ]
    },
    {
      "cell_type": "code",
      "metadata": {
        "id": "v26R9b4cyL15"
      },
      "source": [
        "  #@title Importing libraries\n",
        "from google.colab import auth\n",
        "from google.colab import widgets\n",
        "\n",
        "from collections import Counter\n",
        "import numpy as np\n",
        "import pandas as pd\n",
        "import pickle"
      ],
      "execution_count": null,
      "outputs": []
    },
    {
      "cell_type": "code",
      "metadata": {
        "id": "GcJlmKOvHg95"
      },
      "source": [
        "#@title Authenticating User \n",
        "auth.authenticate_user()\n",
        "!gsutil cp gs://mlhc-mimic/chartreview.pkl ./"
      ],
      "execution_count": null,
      "outputs": []
    },
    {
      "cell_type": "code",
      "metadata": {
        "id": "XvCZeTNIbSM2"
      },
      "source": [
        "##Importing data\n",
        "with open('chartreview.pkl', 'rb') as f:\n",
        "  notes       = pickle.load(f)\n",
        "  backgrounds = pickle.load(f)"
      ],
      "execution_count": null,
      "outputs": []
    },
    {
      "cell_type": "code",
      "metadata": {
        "id": "T1yXKqclgHEy"
      },
      "source": [
        "#@title Defining helper functions (view_background(), visualize_notes()) for visualizing data\n",
        "def view_background(hadm_id):\n",
        "  display(backgrounds[backgrounds.index==hadm_id].T)\n",
        "\n",
        "\n",
        "def visualize_notes(hadm_id):\n",
        "  # When did this patient arrive (useful for getting first 48 hours)\n",
        "  admittime = notes[notes.hadm_id==hadm_id].admittime.values[0]\n",
        "\n",
        "  # Get the notes for this patient\n",
        "  notes_subject = notes.loc[notes.hadm_id==hadm_id]\n",
        "\n",
        "  # How many notes for each category?\n",
        "  category_counts = Counter(notes_subject.category.values)\n",
        "  category_sorted = sorted(category_counts.keys(), \n",
        "                            key=lambda t:category_counts[t], reverse=True)\n",
        "\n",
        "  # Outer tab is for different category of notes\n",
        "  outer_tab = widgets.TabBar(category_sorted, location='top')\n",
        "  for category in category_sorted:\n",
        "    with outer_tab.output_to(category):\n",
        "      notes_cat = notes_subject.loc[notes_subject.category==category]\n",
        "      titles = []\n",
        "      for num,(i,row) in enumerate(notes_cat.iterrows()):\n",
        "        # Format the text with additional metadata\n",
        "        time_offset = (row.charttime - admittime).total_seconds()/3600.\n",
        "        time_offset = int(time_offset) if not np.isnan(time_offset) else 'n/a'\n",
        "          \n",
        "        # Only first 48 hours of data\n",
        "        titles += ['%s Note #%d (%s Hours)' % (category,num,time_offset)]\n",
        "\n",
        "      # Inner tab is for each note in a category\n",
        "      inner_tab = widgets.TabBar(titles, location='start')\n",
        "      for i in range(len(titles)):\n",
        "        with inner_tab.output_to(titles[i]):\n",
        "          print(notes_cat.iloc[i][\"text\"])\n",
        "      "
      ],
      "execution_count": null,
      "outputs": []
    },
    {
      "cell_type": "markdown",
      "metadata": {
        "id": "bCZi6qieyce_"
      },
      "source": [
        "<h1>Patient 1</h1>\n",
        "\n"
      ]
    },
    {
      "cell_type": "code",
      "metadata": {
        "id": "9Oy39XD4y8JA"
      },
      "source": [
        "##Overview of patient with admission_id = 142861\n",
        "hadm_id = 194001\n",
        "view_background(hadm_id)"
      ],
      "execution_count": null,
      "outputs": []
    },
    {
      "cell_type": "code",
      "metadata": {
        "id": "_DxGnjgwgPtu"
      },
      "source": [
        "##Visualizing Clinical Notes for 142861\n",
        "tab = visualize_notes(hadm_id)"
      ],
      "execution_count": null,
      "outputs": []
    },
    {
      "cell_type": "markdown",
      "metadata": {
        "id": "0ZrsIQ102ED0"
      },
      "source": [
        "**<h1>Patient 2</h1>**\n"
      ]
    },
    {
      "cell_type": "code",
      "metadata": {
        "id": "rKR59UXq28s8"
      },
      "source": [
        "##Overview of patient with admission_id = 194001\n",
        "hadm_id_2 = 194001\n",
        "view_background(hadm_id_2)"
      ],
      "execution_count": null,
      "outputs": []
    },
    {
      "cell_type": "code",
      "metadata": {
        "id": "i3Pkwgmk2cW4"
      },
      "source": [
        "##Visualizing Clinical Notes for 194001\n",
        "visualize_notes(194001)"
      ],
      "execution_count": null,
      "outputs": []
    },
    {
      "cell_type": "code",
      "metadata": {
        "id": "D1Xhv52L_J_t"
      },
      "source": [
        ""
      ],
      "execution_count": null,
      "outputs": []
    }
  ]
}