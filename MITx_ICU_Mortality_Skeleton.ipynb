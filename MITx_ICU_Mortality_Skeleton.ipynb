{
  "nbformat": 4,
  "nbformat_minor": 0,
  "metadata": {
    "colab": {
      "name": "MITx ICU Mortality Skeleton.ipynb",
      "private_outputs": true,
      "provenance": [],
      "collapsed_sections": [],
      "include_colab_link": true
    },
    "kernelspec": {
      "name": "python3",
      "display_name": "Python 3"
    }
  },
  "cells": [
    {
      "cell_type": "markdown",
      "metadata": {
        "id": "view-in-github",
        "colab_type": "text"
      },
      "source": [
        "<a href=\"https://colab.research.google.com/github/flozgom/Machine_Learning_Healthcare/blob/main/MITx_ICU_Mortality_Skeleton.ipynb\" target=\"_parent\"><img src=\"https://colab.research.google.com/assets/colab-badge.svg\" alt=\"Open In Colab\"/></a>"
      ]
    },
    {
      "cell_type": "code",
      "metadata": {
        "id": "ElpqUAmUvI7w"
      },
      "source": [
        "from google.colab import auth\n",
        "import pandas as pd\n",
        "\n",
        "from sklearn.linear_model import LogisticRegression\n",
        "from sklearn.metrics import accuracy_score, roc_auc_score, roc_curve, confusion_matrix, f1_score\n",
        "\n",
        "from sklearn.preprocessing import StandardScaler\n",
        "\n",
        "import matplotlib.pyplot as plt\n",
        "from sklearn.feature_extraction.text import CountVectorizer\n"
      ],
      "execution_count": null,
      "outputs": []
    },
    {
      "cell_type": "markdown",
      "metadata": {
        "id": "PIyJAXiowph8"
      },
      "source": [
        "## Loading Data\n"
      ]
    },
    {
      "cell_type": "code",
      "metadata": {
        "id": "Nbm57eDfvNVO"
      },
      "source": [
        "auth.authenticate_user()"
      ],
      "execution_count": null,
      "outputs": []
    },
    {
      "cell_type": "markdown",
      "metadata": {
        "id": "_QLGMNMKvwIx"
      },
      "source": [
        "#### Lab Data"
      ]
    },
    {
      "cell_type": "code",
      "metadata": {
        "id": "x15yHLWbvOcd"
      },
      "source": [
        "!gsutil cp gs://mlhc-mimic/adult_icu.gz ./\n"
      ],
      "execution_count": null,
      "outputs": []
    },
    {
      "cell_type": "code",
      "metadata": {
        "id": "6-Lq03V-vhzW"
      },
      "source": [
        "lab_df = pd.read_csv('adult_icu.gz')"
      ],
      "execution_count": null,
      "outputs": []
    },
    {
      "cell_type": "markdown",
      "metadata": {
        "id": "4j84nlbOwAYH"
      },
      "source": [
        "#### Note Data"
      ]
    },
    {
      "cell_type": "code",
      "metadata": {
        "id": "d6s5t1m_wDMj"
      },
      "source": [
        "!gsutil cp gs://mlhc-mimic/adult_notes.gz ./\n"
      ],
      "execution_count": null,
      "outputs": []
    },
    {
      "cell_type": "code",
      "metadata": {
        "id": "oiwcD0kJwJkQ"
      },
      "source": [
        "note_df = pd.read_csv('adult_notes.gz')"
      ],
      "execution_count": null,
      "outputs": []
    },
    {
      "cell_type": "markdown",
      "metadata": {
        "id": "RAknECuC8tvw"
      },
      "source": [
        "## Question 2\n",
        "\n",
        "Predicting hospital mortality from lab values\n",
        "\n"
      ]
    },
    {
      "cell_type": "code",
      "metadata": {
        "id": "Hz2dCQJL8u3J"
      },
      "source": [
        "##TODO: Explore the dataset lab_df\n",
        "print('Number of unique subjects %s' %len(lab_df['subject_id'].unique()))\n",
        "lab_df"
      ],
      "execution_count": null,
      "outputs": []
    },
    {
      "cell_type": "code",
      "metadata": {
        "id": "1lAnUKVJx335"
      },
      "source": [
        "lab_df['mort_icu'].describe()"
      ],
      "execution_count": null,
      "outputs": []
    },
    {
      "cell_type": "code",
      "metadata": {
        "id": "u4kEofIsHCnq"
      },
      "source": [
        "##Dropping features\n",
        "lab_df.drop([\"subject_id\",\"hadm_id\",\"icustay_id\", \"mort_icu\", \"mort_oneyr\", \"adult_icu\", \"admType_NEWBORN\"], axis=1, inplace=True)"
      ],
      "execution_count": null,
      "outputs": []
    },
    {
      "cell_type": "code",
      "metadata": {
        "id": "xijWwNA1ozF1"
      },
      "source": [
        "##TODO: Split the dataset into train/val/test. Note that we have already provided\n",
        "##the columns \"train\", \"test\", \"valid\" for you which splits the dataset into \n",
        "##training set, validation set and testing set. \n",
        "##Once you're done, remove the columns train, val and test from the dataset. \n",
        "#for 4: \n",
        "#lab_df = lab_df[lab_df.age >40]\n",
        "training_df = lab_df[lab_df.train == 1]\n",
        "training_df.drop(['train'], axis=1, inplace=True)\n",
        "print('Number of training samples %s' %len(training_df))\n",
        "#test data\n",
        "testing_df = lab_df[lab_df.test == 1]\n",
        "testing_df.drop(['test'], axis=1, inplace=True)\n",
        "print('Number of testing samples %s' %len(testing_df))\n",
        "#val data \n",
        "validation_df = lab_df[lab_df.valid== 1]\n",
        "validation_df.drop(['test'], axis=1, inplace=True)\n",
        "print('Number of testing samples %s' %len(validation_df))"
      ],
      "execution_count": null,
      "outputs": []
    },
    {
      "cell_type": "code",
      "metadata": {
        "id": "8sxhyGClpFVv"
      },
      "source": [
        "##TODO: Normalize the data in train/val/test. Be sure to fit StandardScaler to the training dataset only!\n",
        "scaler = StandardScaler()\n",
        "training_scaler = scaler.fit(training_df.drop(['mort_hosp'],axis=1,inplace=False))\n",
        "training_std_df = training_scaler.transform(training_df.drop(['mort_hosp'],axis=1,inplace=False))\n",
        "testing_std_df = training_scaler.transform(testing_df.drop(['mort_hosp'],axis=1,inplace=False))\n",
        "validation_std_df = training_scaler.transform(validation_df.drop(['mort_hosp'],axis=1,inplace=False))"
      ],
      "execution_count": null,
      "outputs": []
    },
    {
      "cell_type": "code",
      "metadata": {
        "id": "FcRDfCLpvk4b"
      },
      "source": [
        "training_df"
      ],
      "execution_count": null,
      "outputs": []
    },
    {
      "cell_type": "code",
      "metadata": {
        "id": "JxdtjezCwSs6"
      },
      "source": [
        "training_std_df.shape"
      ],
      "execution_count": null,
      "outputs": []
    },
    {
      "cell_type": "code",
      "metadata": {
        "id": "no94AXwtqQ28"
      },
      "source": [
        "##TODO: Problem 2.5, 2.6 - Train a Logistic Regression model (with solver = 'libnear') to predict mortality given the remaining features available. \n",
        "\n",
        "C = [0.1, 0.25, 1]\n",
        "penalty = ['l1', 'l2']\n",
        "for c in C:\n",
        "  for pen in penalty:\n",
        "    model = LogisticRegression(penalty=pen,C=c,solver='liblinear',max_iter=2000).fit(training_std_df,training_df['mort_hosp'])\n",
        "    y_pred = model.predict(validation_std_df)\n",
        "    print('C %s, Penalty %s, Accuracy_score %s' %(c,pen, accuracy_score(validation_df['mort_hosp'],y_pred)))"
      ],
      "execution_count": null,
      "outputs": []
    },
    {
      "cell_type": "code",
      "metadata": {
        "id": "AflUbZR945MT"
      },
      "source": [
        "model = LogisticRegression(penalty='l2',C=1,solver='liblinear',max_iter=2000).fit(training_std_df,training_df['mort_hosp'])\n",
        "y_pred = model.predict(testing_std_df)\n",
        "print('Accuracy_score %s' %(accuracy_score(testing_df['mort_hosp'],y_pred)))\n",
        "print('AUC %s' %(roc_auc_score(testing_df['mort_hosp'],y_pred)))"
      ],
      "execution_count": null,
      "outputs": []
    },
    {
      "cell_type": "code",
      "metadata": {
        "id": "UUTMlqJW2Tn0"
      },
      "source": [
        "validation_df"
      ],
      "execution_count": null,
      "outputs": []
    },
    {
      "cell_type": "code",
      "metadata": {
        "id": "Ednt42T18oQX"
      },
      "source": [
        "##TODO: Problem 2.7 - Which of the following features are among the top 5 most \n",
        "##positive features, based on the coefficients of the logistic regression model?\n",
        "testing_df.columns"
      ],
      "execution_count": null,
      "outputs": []
    },
    {
      "cell_type": "code",
      "metadata": {
        "id": "PkwIaCLp_0EB"
      },
      "source": [
        "list1 = list(enumerate(importance))\n",
        "list2 = sorted(list1, key=lambda x:x[1])\n",
        "list2"
      ],
      "execution_count": null,
      "outputs": []
    },
    {
      "cell_type": "code",
      "metadata": {
        "id": "k-G_7XfFBk3s"
      },
      "source": [
        "indexes_names[14]"
      ],
      "execution_count": null,
      "outputs": []
    },
    {
      "cell_type": "code",
      "metadata": {
        "id": "mMWax4x1Ar14"
      },
      "source": [
        "indexes_names = testing_df.drop(['mort_hosp'],axis=1).columns"
      ],
      "execution_count": null,
      "outputs": []
    },
    {
      "cell_type": "code",
      "metadata": {
        "id": "pPPS3oXp-pIC"
      },
      "source": [
        "from matplotlib import pyplot\n",
        "importance = model.coef_[0]\n",
        "# summarize feature importance\n",
        "for i,v in enumerate(importance):\n",
        "\tprint('Feature: %0d, Score: %.5f' % (i,v))\n",
        "# plot feature importance\n",
        "pyplot.bar([x for x in range(len(importance))], importance)\n",
        "pyplot.show()"
      ],
      "execution_count": null,
      "outputs": []
    },
    {
      "cell_type": "code",
      "metadata": {
        "id": "3nj8Y6HE-hnG"
      },
      "source": [
        "print(model.coef_, model.intercept_)"
      ],
      "execution_count": null,
      "outputs": []
    },
    {
      "cell_type": "code",
      "metadata": {
        "id": "tzgM88ha7Uqb"
      },
      "source": [
        "import numpy as np\n",
        "np.round(model.coef_,decimals=2)>0.1"
      ],
      "execution_count": null,
      "outputs": []
    },
    {
      "cell_type": "code",
      "metadata": {
        "id": "_1nXBc538o65"
      },
      "source": [
        "##TODO: Problem 2.8 - Which of the following features are among the top 5 most \n",
        "##negative features, based on the coefficients of the logistic regression model?"
      ],
      "execution_count": null,
      "outputs": []
    },
    {
      "cell_type": "markdown",
      "metadata": {
        "id": "R0u2eZw0_Ov3"
      },
      "source": [
        "## Question 3\n",
        "\n",
        "Predicting hospital mortality from clinical notes\n"
      ]
    },
    {
      "cell_type": "code",
      "metadata": {
        "id": "exk56Quh9HqL"
      },
      "source": [
        "note_df.head()"
      ],
      "execution_count": null,
      "outputs": []
    },
    {
      "cell_type": "code",
      "metadata": {
        "id": "dd7Uzlj7xTTc"
      },
      "source": [
        "note_df.drop([\"subject_id\",\"hadm_id\",\"icustay_id\", \"mort_icu\", \"mort_oneyr\"], axis=1, inplace=True)"
      ],
      "execution_count": null,
      "outputs": []
    },
    {
      "cell_type": "code",
      "metadata": {
        "id": "GKGab1yIxYPX"
      },
      "source": [
        "##TODO: Split the dataset into train/val/test\n",
        "training_df = note_df[note_df.train == 1]\n",
        "training_df.drop(['train'], axis=1, inplace=True)\n",
        "print('Number of training samples %s' %len(training_df))\n",
        "#test data\n",
        "testing_df = note_df[note_df.test == 1]\n",
        "testing_df.drop(['test'], axis=1, inplace=True)\n",
        "print('Number of testing samples %s' %len(testing_df))\n",
        "#val data \n",
        "validation_df = note_df[note_df.valid== 1]\n",
        "validation_df.drop(['test'], axis=1, inplace=True)\n",
        "print('Number of testing samples %s' %len(validation_df))"
      ],
      "execution_count": null,
      "outputs": []
    },
    {
      "cell_type": "code",
      "metadata": {
        "id": "VxLR-FIdvp5e"
      },
      "source": [
        "training_df['chartext']"
      ],
      "execution_count": null,
      "outputs": []
    },
    {
      "cell_type": "code",
      "metadata": {
        "id": "yseYD8naxdlJ"
      },
      "source": [
        "##TODO: Fit a CountVectorizer with max_features = 5000 to the trianing dataset and generate features for train/val/test. \n",
        "vectorizer = CountVectorizer(max_features = 5000)\n",
        "X = vectorizer.fit(training_df['chartext'])"
      ],
      "execution_count": null,
      "outputs": []
    },
    {
      "cell_type": "code",
      "metadata": {
        "id": "XR0gAke0wBEP"
      },
      "source": [
        "y_train = vectorizer.transform(training_df['chartext'])\n"
      ],
      "execution_count": null,
      "outputs": []
    },
    {
      "cell_type": "code",
      "metadata": {
        "id": "UOd87xZBxthR"
      },
      "source": [
        "y_val = vectorizer.transform(validation_df['chartext'])"
      ],
      "execution_count": null,
      "outputs": []
    },
    {
      "cell_type": "code",
      "metadata": {
        "id": "cgd9KdCMy07A"
      },
      "source": [
        "y_test = vectorizer.transform(testing_df['chartext'])"
      ],
      "execution_count": null,
      "outputs": []
    },
    {
      "cell_type": "code",
      "metadata": {
        "id": "Cgy3aK1BxK_l"
      },
      "source": [
        "print(X.toarray())"
      ],
      "execution_count": null,
      "outputs": []
    },
    {
      "cell_type": "code",
      "metadata": {
        "id": "ZVZ9ByAbx-U6"
      },
      "source": [
        "##TODO: Problem 3.1, 3.2 Train a Logistic Regression model (with solver = 'liblinear') to predict mortality given the remaining features available. \n",
        "\n",
        "C = [0.1,0.25,1]\n",
        "penalty = ['l1','l2']\n",
        "for c in C:\n",
        "  for pen in penalty:\n",
        "    model = LogisticRegression(penalty=pen,C=c,solver='liblinear',max_iter=2000).fit(y_train,training_df['mort_hosp'])\n",
        "    y_pred = model.predict(y_val)\n",
        "    print('C %s, Penalty %s, Accuracy_score %s' %(c,pen, accuracy_score(validation_df['mort_hosp'],y_pred)))"
      ],
      "execution_count": null,
      "outputs": []
    },
    {
      "cell_type": "code",
      "metadata": {
        "id": "cHvQc-l8ysJB"
      },
      "source": [
        "model = LogisticRegression(penalty='l1',C=0.1,solver='liblinear',max_iter=2000).fit(y_train,training_df['mort_hosp'])\n",
        "y_pred = model.predict(y_test)\n",
        "print('Accuracy_score %s' %(accuracy_score(testing_df['mort_hosp'],y_pred)))\n",
        "print('AUC %s' %(roc_auc_score(testing_df['mort_hosp'],y_pred)))"
      ],
      "execution_count": null,
      "outputs": []
    },
    {
      "cell_type": "code",
      "metadata": {
        "id": "beRbOaOP9KY2"
      },
      "source": [
        "##TODO: Problem 3.3 Which of the following features are among the top 5 most \n",
        "##predictive positive words, based on the coefficients of the logistic regression model?"
      ],
      "execution_count": null,
      "outputs": []
    },
    {
      "cell_type": "code",
      "metadata": {
        "id": "Ok8O6JGEzedP"
      },
      "source": [
        "importance = model.coef_[0]"
      ],
      "execution_count": null,
      "outputs": []
    },
    {
      "cell_type": "code",
      "metadata": {
        "id": "bWbtgp2xzqtT"
      },
      "source": [
        "list1 = list(enumerate(importance))\n",
        "list2 = sorted(list1, key=lambda x:x[1])\n",
        "list2[-5:-1]"
      ],
      "execution_count": null,
      "outputs": []
    },
    {
      "cell_type": "code",
      "metadata": {
        "id": "0yZxSbVL0FSa"
      },
      "source": [
        "vectorizer.get_feature_names()[4790]"
      ],
      "execution_count": null,
      "outputs": []
    },
    {
      "cell_type": "code",
      "metadata": {
        "id": "0fKZpM-x9N_R"
      },
      "source": [
        "##TODO: Problem 3.4 Which of the following features are among the top 5 most \n",
        "##predictive negative words, based on the coefficients of the logistic regression model?"
      ],
      "execution_count": null,
      "outputs": []
    },
    {
      "cell_type": "markdown",
      "metadata": {
        "id": "fhKFPNlIAV-0"
      },
      "source": [
        "## Question 4\n",
        "\n",
        "Analysis of data and results"
      ]
    },
    {
      "cell_type": "code",
      "metadata": {
        "id": "OGp4tBIh2U-Z"
      },
      "source": [
        "lab_df"
      ],
      "execution_count": null,
      "outputs": []
    },
    {
      "cell_type": "code",
      "metadata": {
        "id": "DxyN7K3m_Wbp"
      },
      "source": [
        "##TODO: Problem 4.1 - people / mortality rate in different ethnic categorizations\n",
        "lab_df\n",
        "asian = lab_df[lab_df.eth_asian == 1]\n",
        "black = lab_df[lab_df.eth_black == 1]\n",
        "hispanic = lab_df[lab_df.eth_hispanic == 1]\n",
        "other = lab_df[lab_df['eth_other'] == 1]\n",
        "white = lab_df[lab_df.eth_white == 1]"
      ],
      "execution_count": null,
      "outputs": []
    },
    {
      "cell_type": "code",
      "metadata": {
        "id": "h6BNl9SF2BaP"
      },
      "source": [
        "print(len(asian))\n",
        "print('Mortality Rate %s' %(len(asian)/sum(asian.mort_hosp)/100))"
      ],
      "execution_count": null,
      "outputs": []
    },
    {
      "cell_type": "code",
      "metadata": {
        "id": "EFiKcWgM3lEV"
      },
      "source": [
        "print(len(black))\n",
        "print('Mortality Rate %s' %(len(black)/sum(black.mort_hosp)/100))"
      ],
      "execution_count": null,
      "outputs": []
    },
    {
      "cell_type": "code",
      "metadata": {
        "id": "EaIgdDBY3r-M"
      },
      "source": [
        "print(len(hispanic))\n",
        "print('Mortality Rate %s' %(len(hispanic)/sum(hispanic.mort_hosp)/100))"
      ],
      "execution_count": null,
      "outputs": []
    },
    {
      "cell_type": "code",
      "metadata": {
        "id": "lHE6erPX31w5"
      },
      "source": [
        "print(len(other))\n",
        "print('Mortality Rate %s' %(len(other)/sum(other.mort_hosp)/100))"
      ],
      "execution_count": null,
      "outputs": []
    },
    {
      "cell_type": "code",
      "metadata": {
        "id": "nsLjqkei37b-"
      },
      "source": [
        "print(len(white))\n",
        "print('Mortality Rate %s' %(len(white)/sum(white.mort_hosp)/100))"
      ],
      "execution_count": null,
      "outputs": []
    },
    {
      "cell_type": "code",
      "metadata": {
        "id": "xRV_F6709e-C"
      },
      "source": [
        "##TODO: Problem 4.2 - plot histogram for ages"
      ],
      "execution_count": null,
      "outputs": []
    },
    {
      "cell_type": "code",
      "metadata": {
        "id": "uA9Fr19e4F_N"
      },
      "source": [
        "lab_df.age.hist()"
      ],
      "execution_count": null,
      "outputs": []
    },
    {
      "cell_type": "code",
      "metadata": {
        "id": "1fcIHMv35gue"
      },
      "source": [
        "bins_list = [20, 30, 40, 50, 60, 70 ,80, 90]\n",
        "lab_df.age.hist(bins=bins_list)"
      ],
      "execution_count": null,
      "outputs": []
    },
    {
      "cell_type": "markdown",
      "metadata": {
        "id": "p14sV8ZbIt83"
      },
      "source": [
        "# New Section"
      ]
    },
    {
      "cell_type": "code",
      "metadata": {
        "id": "fNbxp_qE9hpb"
      },
      "source": [
        "##TODO: Problem 4.3 - plot histogram for mortality rates\n",
        "for age in [20, 30, 40, 50, 60, 70, 80 , 90]:\n",
        "  a = lab_df[(lab_df.age >= age) & (lab_df.age <=age+9)]\n",
        "  print('mortality %s : %s' %(age,len(a.subject_id)/sum(a.mort_hosp)/100))\n",
        "  print('mortality unique %s : %s' %(age,len(a.subject_id.unique())/sum(a.mort_hosp)/100))\n",
        "  len(a.subject_id.unique())"
      ],
      "execution_count": null,
      "outputs": []
    },
    {
      "cell_type": "code",
      "metadata": {
        "id": "cJGp5DOi9jdy"
      },
      "source": [
        "##TODO: Problem 4.4 - retrain a model using C=1, penalty = l2 and evaluate AUC\n",
        "##and accuracy on the test set with age less than 40 and on the test set with\n",
        "##age greater than or equal to 40."
      ],
      "execution_count": null,
      "outputs": []
    },
    {
      "cell_type": "code",
      "metadata": {
        "id": "o-GwkXi-XkzE"
      },
      "source": [
        "sum(lab_df.mort_oneyr)"
      ],
      "execution_count": null,
      "outputs": []
    },
    {
      "cell_type": "code",
      "metadata": {
        "id": "gLxR2A3x43qx"
      },
      "source": [
        ""
      ],
      "execution_count": null,
      "outputs": []
    },
    {
      "cell_type": "code",
      "metadata": {
        "id": "abb-Nh6h_xev"
      },
      "source": [
        ""
      ],
      "execution_count": null,
      "outputs": []
    },
    {
      "cell_type": "code",
      "metadata": {
        "id": "ePOT48slApuQ"
      },
      "source": [
        ""
      ],
      "execution_count": null,
      "outputs": []
    }
  ]
}